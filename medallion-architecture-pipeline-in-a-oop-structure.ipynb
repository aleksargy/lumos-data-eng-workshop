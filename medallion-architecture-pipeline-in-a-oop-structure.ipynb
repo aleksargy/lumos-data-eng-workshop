{
 "cells": [
  {
   "cell_type": "markdown",
   "id": "a3211a1c",
   "metadata": {
    "papermill": {
     "duration": 0.005229,
     "end_time": "2025-02-19T20:51:28.239282",
     "exception": false,
     "start_time": "2025-02-19T20:51:28.234053",
     "status": "completed"
    },
    "tags": []
   },
   "source": [
    "# PySpark: Medallion Architecture Example"
   ]
  },
  {
   "cell_type": "markdown",
   "id": "a2a0bf88",
   "metadata": {
    "execution": {
     "iopub.execute_input": "2025-02-19T20:11:31.956307Z",
     "iopub.status.busy": "2025-02-19T20:11:31.955892Z",
     "iopub.status.idle": "2025-02-19T20:11:31.960652Z",
     "shell.execute_reply": "2025-02-19T20:11:31.959570Z",
     "shell.execute_reply.started": "2025-02-19T20:11:31.956278Z"
    },
    "papermill": {
     "duration": 0.004324,
     "end_time": "2025-02-19T20:51:28.248704",
     "exception": false,
     "start_time": "2025-02-19T20:51:28.244380",
     "status": "completed"
    },
    "tags": []
   },
   "source": [
    "### The present project has the goal to show in a concise way a medallion architecture example."
   ]
  },
  {
   "cell_type": "markdown",
   "id": "4a4c173d",
   "metadata": {
    "execution": {
     "iopub.execute_input": "2025-02-19T20:09:31.658825Z",
     "iopub.status.busy": "2025-02-19T20:09:31.658442Z",
     "iopub.status.idle": "2025-02-19T20:09:31.663389Z",
     "shell.execute_reply": "2025-02-19T20:09:31.661730Z",
     "shell.execute_reply.started": "2025-02-19T20:09:31.658796Z"
    },
    "papermill": {
     "duration": 0.004228,
     "end_time": "2025-02-19T20:51:28.257556",
     "exception": false,
     "start_time": "2025-02-19T20:51:28.253328",
     "status": "completed"
    },
    "tags": []
   },
   "source": [
    "#### We are going to import some data from an API available in hte web https://api.openbrewerydb.org/breweries.\n",
    "#### We need import pyspark libraries."
   ]
  },
  {
   "cell_type": "code",
   "execution_count": null,
   "id": "9610032f",
   "metadata": {},
   "outputs": [],
   "source": [
    "%pip install pandas\n",
    "%pip install requests\n",
    "%pip install pyspark\n"
   ]
  },
  {
   "cell_type": "code",
   "execution_count": null,
   "id": "51fe0f07",
   "metadata": {
    "_cell_guid": "b1076dfc-b9ad-4769-8c92-a6c4dae69d19",
    "_uuid": "8f2839f25d086af736a60e9eeb907d3b93b6e0e5",
    "execution": {
     "iopub.execute_input": "2025-02-19T20:51:28.268213Z",
     "iopub.status.busy": "2025-02-19T20:51:28.267830Z",
     "iopub.status.idle": "2025-02-19T20:51:29.910922Z",
     "shell.execute_reply": "2025-02-19T20:51:29.909777Z"
    },
    "papermill": {
     "duration": 1.650781,
     "end_time": "2025-02-19T20:51:29.912943",
     "exception": false,
     "start_time": "2025-02-19T20:51:28.262162",
     "status": "completed"
    },
    "tags": []
   },
   "outputs": [],
   "source": [
    "import pandas as pd\n",
    "import requests\n",
    "from pyspark.sql import SparkSession\n",
    "from pyspark.sql.functions import col"
   ]
  },
  {
   "cell_type": "markdown",
   "id": "00b97109",
   "metadata": {
    "papermill": {
     "duration": 0.004295,
     "end_time": "2025-02-19T20:51:29.922045",
     "exception": false,
     "start_time": "2025-02-19T20:51:29.917750",
     "status": "completed"
    },
    "tags": []
   },
   "source": [
    "#### Creating a spark cluster"
   ]
  },
  {
   "cell_type": "code",
   "execution_count": null,
   "id": "f5c0902f",
   "metadata": {
    "execution": {
     "iopub.execute_input": "2025-02-19T20:51:29.932751Z",
     "iopub.status.busy": "2025-02-19T20:51:29.932217Z",
     "iopub.status.idle": "2025-02-19T20:51:37.408766Z",
     "shell.execute_reply": "2025-02-19T20:51:37.407067Z"
    },
    "papermill": {
     "duration": 7.48411,
     "end_time": "2025-02-19T20:51:37.410837",
     "exception": false,
     "start_time": "2025-02-19T20:51:29.926727",
     "status": "completed"
    },
    "tags": []
   },
   "outputs": [],
   "source": [
    "spark = SparkSession.builder.appName(\"MeuDataFrame\").master(\"local[*]\").getOrCreate()"
   ]
  },
  {
   "cell_type": "markdown",
   "id": "86c4c472",
   "metadata": {
    "execution": {
     "iopub.execute_input": "2025-02-19T20:18:20.631831Z",
     "iopub.status.busy": "2025-02-19T20:18:20.631407Z",
     "iopub.status.idle": "2025-02-19T20:18:20.635975Z",
     "shell.execute_reply": "2025-02-19T20:18:20.634897Z",
     "shell.execute_reply.started": "2025-02-19T20:18:20.631796Z"
    },
    "papermill": {
     "duration": 0.004398,
     "end_time": "2025-02-19T20:51:37.419938",
     "exception": false,
     "start_time": "2025-02-19T20:51:37.415540",
     "status": "completed"
    },
    "tags": []
   },
   "source": [
    "#### Downloading the breweries' data from the web"
   ]
  },
  {
   "cell_type": "code",
   "execution_count": null,
   "id": "2186ced6",
   "metadata": {
    "execution": {
     "iopub.execute_input": "2025-02-19T20:51:37.430362Z",
     "iopub.status.busy": "2025-02-19T20:51:37.429940Z",
     "iopub.status.idle": "2025-02-19T20:51:37.513766Z",
     "shell.execute_reply": "2025-02-19T20:51:37.512764Z"
    },
    "papermill": {
     "duration": 0.091169,
     "end_time": "2025-02-19T20:51:37.515567",
     "exception": false,
     "start_time": "2025-02-19T20:51:37.424398",
     "status": "completed"
    },
    "tags": []
   },
   "outputs": [],
   "source": [
    "url = \"https://api.openbrewerydb.org/breweries\"\n",
    "response = requests.get(url)\n",
    "\n",
    "data = response.json()"
   ]
  },
  {
   "cell_type": "markdown",
   "id": "f9d4a4e3",
   "metadata": {
    "papermill": {
     "duration": 0.00421,
     "end_time": "2025-02-19T20:51:37.524547",
     "exception": false,
     "start_time": "2025-02-19T20:51:37.520337",
     "status": "completed"
    },
    "tags": []
   },
   "source": [
    "#### Importing the downloaded data into a pandas dataframe"
   ]
  },
  {
   "cell_type": "code",
   "execution_count": null,
   "id": "2ea4b58d",
   "metadata": {
    "execution": {
     "iopub.execute_input": "2025-02-19T20:51:37.534759Z",
     "iopub.status.busy": "2025-02-19T20:51:37.534404Z",
     "iopub.status.idle": "2025-02-19T20:51:37.542904Z",
     "shell.execute_reply": "2025-02-19T20:51:37.541855Z"
    },
    "papermill": {
     "duration": 0.015751,
     "end_time": "2025-02-19T20:51:37.544736",
     "exception": false,
     "start_time": "2025-02-19T20:51:37.528985",
     "status": "completed"
    },
    "tags": []
   },
   "outputs": [],
   "source": [
    "pandas_df = pd.DataFrame(data)"
   ]
  },
  {
   "cell_type": "markdown",
   "id": "520896e9",
   "metadata": {
    "papermill": {
     "duration": 0.004219,
     "end_time": "2025-02-19T20:51:37.553656",
     "exception": false,
     "start_time": "2025-02-19T20:51:37.549437",
     "status": "completed"
    },
    "tags": []
   },
   "source": [
    "#### Creating CSV file in my file catalog"
   ]
  },
  {
   "cell_type": "code",
   "execution_count": null,
   "id": "741b0b1e",
   "metadata": {
    "execution": {
     "iopub.execute_input": "2025-02-19T20:51:37.564049Z",
     "iopub.status.busy": "2025-02-19T20:51:37.563691Z",
     "iopub.status.idle": "2025-02-19T20:51:37.579530Z",
     "shell.execute_reply": "2025-02-19T20:51:37.578499Z"
    },
    "papermill": {
     "duration": 0.023143,
     "end_time": "2025-02-19T20:51:37.581281",
     "exception": false,
     "start_time": "2025-02-19T20:51:37.558138",
     "status": "completed"
    },
    "tags": []
   },
   "outputs": [],
   "source": [
    "pandas_df.to_csv('/kaggle/working/breweries.csv',index=False)"
   ]
  },
  {
   "cell_type": "markdown",
   "id": "9f0b5e12",
   "metadata": {
    "papermill": {
     "duration": 0.004203,
     "end_time": "2025-02-19T20:51:37.590150",
     "exception": false,
     "start_time": "2025-02-19T20:51:37.585947",
     "status": "completed"
    },
    "tags": []
   },
   "source": [
    "#### The bronze layer where the data stands raw from the source."
   ]
  },
  {
   "cell_type": "code",
   "execution_count": null,
   "id": "6731a63c",
   "metadata": {
    "execution": {
     "iopub.execute_input": "2025-02-19T20:51:37.600873Z",
     "iopub.status.busy": "2025-02-19T20:51:37.600337Z",
     "iopub.status.idle": "2025-02-19T20:51:45.575391Z",
     "shell.execute_reply": "2025-02-19T20:51:45.574027Z"
    },
    "papermill": {
     "duration": 7.983778,
     "end_time": "2025-02-19T20:51:45.578410",
     "exception": false,
     "start_time": "2025-02-19T20:51:37.594632",
     "status": "completed"
    },
    "tags": []
   },
   "outputs": [],
   "source": [
    "bronze_df = spark.read.csv('/kaggle/working/breweries.csv',header=True)"
   ]
  },
  {
   "cell_type": "code",
   "execution_count": null,
   "id": "6d839411",
   "metadata": {
    "execution": {
     "iopub.execute_input": "2025-02-19T20:51:45.596272Z",
     "iopub.status.busy": "2025-02-19T20:51:45.595755Z",
     "iopub.status.idle": "2025-02-19T20:51:46.176259Z",
     "shell.execute_reply": "2025-02-19T20:51:46.175173Z"
    },
    "papermill": {
     "duration": 0.592596,
     "end_time": "2025-02-19T20:51:46.179077",
     "exception": false,
     "start_time": "2025-02-19T20:51:45.586481",
     "status": "completed"
    },
    "tags": []
   },
   "outputs": [],
   "source": [
    "bronze_df.show(10)"
   ]
  },
  {
   "cell_type": "markdown",
   "id": "26b0c526",
   "metadata": {
    "papermill": {
     "duration": 0.007277,
     "end_time": "2025-02-19T20:51:46.194817",
     "exception": false,
     "start_time": "2025-02-19T20:51:46.187540",
     "status": "completed"
    },
    "tags": []
   },
   "source": [
    "#### Silver layer is where the data is cleaned and business rules are applied"
   ]
  },
  {
   "cell_type": "code",
   "execution_count": null,
   "id": "64f95c12",
   "metadata": {
    "execution": {
     "iopub.execute_input": "2025-02-19T20:51:46.211873Z",
     "iopub.status.busy": "2025-02-19T20:51:46.211332Z",
     "iopub.status.idle": "2025-02-19T20:51:46.260172Z",
     "shell.execute_reply": "2025-02-19T20:51:46.258863Z"
    },
    "papermill": {
     "duration": 0.060023,
     "end_time": "2025-02-19T20:51:46.262480",
     "exception": false,
     "start_time": "2025-02-19T20:51:46.202457",
     "status": "completed"
    },
    "tags": []
   },
   "outputs": [],
   "source": [
    "#Creating a partition by region\n",
    "silver_df = bronze_df.repartition('state_province','country')"
   ]
  },
  {
   "cell_type": "code",
   "execution_count": null,
   "id": "7cd78e00",
   "metadata": {
    "execution": {
     "iopub.execute_input": "2025-02-19T20:51:46.279626Z",
     "iopub.status.busy": "2025-02-19T20:51:46.279091Z",
     "iopub.status.idle": "2025-02-19T20:51:46.344590Z",
     "shell.execute_reply": "2025-02-19T20:51:46.343494Z"
    },
    "papermill": {
     "duration": 0.076247,
     "end_time": "2025-02-19T20:51:46.346622",
     "exception": false,
     "start_time": "2025-02-19T20:51:46.270375",
     "status": "completed"
    },
    "tags": []
   },
   "outputs": [],
   "source": [
    "# removing duplicates, dropping not interesting columns and rename some columns\n",
    "silver_df = silver_df.dropDuplicates()\\\n",
    "          .drop('id',\"address_2\", \"address_3\",\"state\",'latitude','longitude','state','postal_code','phone')\\\n",
    "          .withColumnRenamed('address_1','address')\\\n",
    "            .withColumnRenamed('brewery_type','type')"
   ]
  },
  {
   "cell_type": "code",
   "execution_count": null,
   "id": "18a33045",
   "metadata": {
    "execution": {
     "iopub.execute_input": "2025-02-19T20:51:46.358126Z",
     "iopub.status.busy": "2025-02-19T20:51:46.357748Z",
     "iopub.status.idle": "2025-02-19T20:51:47.879336Z",
     "shell.execute_reply": "2025-02-19T20:51:47.877541Z"
    },
    "papermill": {
     "duration": 1.530144,
     "end_time": "2025-02-19T20:51:47.881685",
     "exception": false,
     "start_time": "2025-02-19T20:51:46.351541",
     "status": "completed"
    },
    "tags": []
   },
   "outputs": [],
   "source": [
    "silver_df.show(20)"
   ]
  },
  {
   "cell_type": "markdown",
   "id": "351c59a8",
   "metadata": {
    "papermill": {
     "duration": 0.007675,
     "end_time": "2025-02-19T20:51:47.899296",
     "exception": false,
     "start_time": "2025-02-19T20:51:47.891621",
     "status": "completed"
    },
    "tags": []
   },
   "source": [
    "#### The gold layer is the presentation layer. Usually, some report runtime aggregations are run."
   ]
  },
  {
   "cell_type": "code",
   "execution_count": null,
   "id": "f9f6d7b6",
   "metadata": {
    "execution": {
     "iopub.execute_input": "2025-02-19T20:51:47.916817Z",
     "iopub.status.busy": "2025-02-19T20:51:47.916225Z",
     "iopub.status.idle": "2025-02-19T20:51:48.030896Z",
     "shell.execute_reply": "2025-02-19T20:51:48.029590Z"
    },
    "papermill": {
     "duration": 0.126052,
     "end_time": "2025-02-19T20:51:48.033328",
     "exception": false,
     "start_time": "2025-02-19T20:51:47.907276",
     "status": "completed"
    },
    "tags": []
   },
   "outputs": [],
   "source": [
    "# Aggregate analysis with Group By and Count functions\n",
    "gold_df = silver_df.select('type','state_province','country').groupBy('type','state_province','country').count().orderBy('count',ascending=False)"
   ]
  },
  {
   "cell_type": "code",
   "execution_count": null,
   "id": "d9af24e9",
   "metadata": {
    "execution": {
     "iopub.execute_input": "2025-02-19T20:51:48.050730Z",
     "iopub.status.busy": "2025-02-19T20:51:48.050261Z",
     "iopub.status.idle": "2025-02-19T20:51:49.176059Z",
     "shell.execute_reply": "2025-02-19T20:51:49.173708Z"
    },
    "papermill": {
     "duration": 1.138645,
     "end_time": "2025-02-19T20:51:49.180084",
     "exception": false,
     "start_time": "2025-02-19T20:51:48.041439",
     "status": "completed"
    },
    "tags": []
   },
   "outputs": [],
   "source": [
    "gold_df.show()"
   ]
  },
  {
   "cell_type": "code",
   "execution_count": null,
   "id": "39d296c5",
   "metadata": {
    "papermill": {
     "duration": 0.007893,
     "end_time": "2025-02-19T20:51:49.196699",
     "exception": false,
     "start_time": "2025-02-19T20:51:49.188806",
     "status": "completed"
    },
    "tags": []
   },
   "outputs": [],
   "source": []
  }
 ],
 "metadata": {
  "kaggle": {
   "accelerator": "none",
   "dataSources": [],
   "dockerImageVersionId": 30886,
   "isGpuEnabled": false,
   "isInternetEnabled": true,
   "language": "python",
   "sourceType": "notebook"
  },
  "kernelspec": {
   "display_name": "Python 3",
   "language": "python",
   "name": "python3"
  },
  "language_info": {
   "codemirror_mode": {
    "name": "ipython",
    "version": 3
   },
   "file_extension": ".py",
   "mimetype": "text/x-python",
   "name": "python",
   "nbconvert_exporter": "python",
   "pygments_lexer": "ipython3",
   "version": "3.13.3"
  },
  "papermill": {
   "default_parameters": {},
   "duration": 24.595602,
   "end_time": "2025-02-19T20:51:49.927112",
   "environment_variables": {},
   "exception": null,
   "input_path": "__notebook__.ipynb",
   "output_path": "__notebook__.ipynb",
   "parameters": {},
   "start_time": "2025-02-19T20:51:25.331510",
   "version": "2.6.0"
  }
 },
 "nbformat": 4,
 "nbformat_minor": 5
}
