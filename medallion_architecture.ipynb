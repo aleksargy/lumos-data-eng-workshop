{
 "cells": [
  {
   "cell_type": "markdown",
   "id": "ee3df806",
   "metadata": {},
   "source": [
    "# Medallion Architecture: Healthcare Example with Pandas"
   ]
  },
  {
   "cell_type": "markdown",
   "id": "4e2947ae",
   "metadata": {},
   "source": [
    "## 👩‍💼 **Scenario:**\n",
    "Lumos has landed a project working with a healthcare provider. Your client has access to synthetic patient data generated from Synthea, which simulates real-world medical records. The client needs help building a structured pipeline to analyze patient and encounter data in a way that supports business intelligence and decision-making.\n",
    "\n",
    "Your task as a Data Engineer is to build a medallion architecture pipeline with the following objectives:\n",
    " \n",
    "1. Load and inspect raw patient, encounter, and medication data.\n",
    "2. Clean and prepare the data into consistent, analysis-ready tables.\n",
    "3. Create enriched views by joining datasets to gain a full picture of the patient journey.\n",
    "4. Calculate and save key performance indicators (KPIs).\n",
    "5. Generate visualizations to support reporting."
   ]
  },
  {
   "cell_type": "markdown",
   "id": "552249b5",
   "metadata": {},
   "source": [
    "# 🥉 BRONZE LAYER\n",
    "\n",
    "The raw data landing zone. It contains unprocessed datasets as extracted from the source. No cleaning or transformations are done here, just data dumps.\n",
    "\n",
    "We'll use real-world-style healthcare datasets generated from Synthea: patients, encounters, and medications.\n"
   ]
  },
  {
   "cell_type": "code",
   "execution_count": 91,
   "id": "b376e409",
   "metadata": {},
   "outputs": [],
   "source": [
    "import pandas as pd\n",
    "import numpy as np\n",
    "import matplotlib.pyplot as plt\n",
    "import os\n",
    "\n",
    "# Create folder structure\n",
    "os.makedirs(\"bronze\", exist_ok=True)\n",
    "os.makedirs(\"silver\", exist_ok=True)\n",
    "os.makedirs(\"gold\", exist_ok=True)"
   ]
  },
  {
   "cell_type": "markdown",
   "id": "8c2e0e64",
   "metadata": {},
   "source": [
    "### 🧩 **Step 1 - Load and Inspect:**\n",
    "The client has given you access to raw healthcare datasets, already loaded up in bronze. The job here is simple:\n",
    " \n",
    "- Load the CSV files from the Synthea data dump.\n",
    "- Explore them to understand what kind of information you're working with.\n",
    "- Do not modify the data yet — just inspect and get familiar with it."
   ]
  },
  {
   "cell_type": "code",
   "execution_count": 92,
   "id": "aaa763ed",
   "metadata": {},
   "outputs": [],
   "source": [
    "patients = pd.read_csv(\"bronze/patients.csv\")\n",
    "encounters = pd.read_csv(\"bronze/encounters.csv\")\n",
    "medications = pd.read_csv(\"bronze/medications.csv\")"
   ]
  },
  {
   "cell_type": "markdown",
   "id": "3261af47",
   "metadata": {},
   "source": [
    "After loading the data, ask yourself the following:\n",
    "1. How many columns and rows are in each dataset?\n",
    "2. Which columns look like IDs or date values?\n",
    "3. Can you spot any missing values or strange formatting?\n",
    "\n",
    "Explore and Inspect Raw Data (Optional (but recommended))"
   ]
  },
  {
   "cell_type": "code",
   "execution_count": 93,
   "id": "89cdfdc2",
   "metadata": {},
   "outputs": [
    {
     "name": "stdout",
     "output_type": "stream",
     "text": [
      "Patients:\n",
      "                                     Id   BIRTHDATE DEATHDATE          SSN  \\\n",
      "0  a810b3cd-a8fa-0288-5f7c-c6347674d155  2023-01-21       NaN  999-28-3771   \n",
      "1  aa59ccda-f100-6d3a-9735-a9d61e1fbae1  2014-02-22       NaN  999-47-3154   \n",
      "2  6bb306f5-8ddf-6ce9-d504-5ec40385aee1  1973-01-04       NaN  999-97-3347   \n",
      "3  a438167e-e1a2-079b-7707-3ba6b6bd5200  1957-02-16       NaN  999-23-3986   \n",
      "4  e18295b7-25c7-25f3-45c9-6e473e3df7a6  2013-09-17       NaN  999-94-4650   \n",
      "\n",
      "     DRIVERS    PASSPORT PREFIX        FIRST     MIDDLE        LAST  ...  \\\n",
      "0        NaN         NaN    NaN      Josh874  Hassan290     King743  ...   \n",
      "1        NaN         NaN    NaN  Violette536  Hettie215    Jones311  ...   \n",
      "2  S99947865  X69812505X    Mr.    Carlos172        NaN    Kiehn525  ...   \n",
      "3  S99912795  X17191035X    Mr.     Craig656  Hilton264  Hagenes547  ...   \n",
      "4        NaN         NaN    NaN    Lauren941   Shawn523    Blick895  ...   \n",
      "\n",
      "         CITY          STATE            COUNTY     FIPS   ZIP        LAT  \\\n",
      "0   Wellesley  Massachusetts    Norfolk County  25021.0  2457  42.296453   \n",
      "1    Chicopee  Massachusetts    Hampden County  25013.0  1020  42.175335   \n",
      "2      Natick  Massachusetts  Middlesex County      NaN     0  42.245215   \n",
      "3      Hanson  Massachusetts   Plymouth County  25023.0  2341  42.002483   \n",
      "4  Leominster  Massachusetts  Worcester County  25027.0  1420  42.596736   \n",
      "\n",
      "         LON HEALTHCARE_EXPENSES HEALTHCARE_COVERAGE  INCOME  \n",
      "0 -71.265135             6370.95                0.00  251378  \n",
      "1 -72.603015             1546.96            37530.34   16586  \n",
      "2 -71.394608           120292.92            20563.28  853865  \n",
      "3 -70.819026           196576.56            69716.15  133330  \n",
      "4 -71.789066            12744.77            21291.07   60871  \n",
      "\n",
      "[5 rows x 28 columns]\n",
      "\n",
      "Encounters:\n",
      "                                     Id                 START  \\\n",
      "0  eabe2d17-dc0c-54dd-d791-df1a6afffb74  2023-01-21T21:52:07Z   \n",
      "1  2cd689e1-828a-8ec1-1fa4-65c181b9e27c  2015-05-02T03:42:27Z   \n",
      "2  646ca376-0e3b-8641-e3ff-f2637a1800a6  2023-02-25T21:52:07Z   \n",
      "3  eab75d7d-a429-4655-2181-16338c07bc68  2023-04-29T21:52:07Z   \n",
      "4  8b455020-0438-0955-8c21-50ebbebf52c0  2015-08-01T03:42:27Z   \n",
      "\n",
      "                   STOP                               PATIENT  \\\n",
      "0  2023-01-21T22:07:07Z  a810b3cd-a8fa-0288-5f7c-c6347674d155   \n",
      "1  2015-05-02T03:57:27Z  aa59ccda-f100-6d3a-9735-a9d61e1fbae1   \n",
      "2  2023-02-25T22:07:07Z  a810b3cd-a8fa-0288-5f7c-c6347674d155   \n",
      "3  2023-04-29T22:07:07Z  a810b3cd-a8fa-0288-5f7c-c6347674d155   \n",
      "4  2015-08-01T03:57:27Z  aa59ccda-f100-6d3a-9735-a9d61e1fbae1   \n",
      "\n",
      "                           ORGANIZATION                              PROVIDER  \\\n",
      "0  0a42bb03-b1a7-347d-82f3-4ba02080e55c  24dda8cd-a5bc-3908-93cc-af2c342f4d0b   \n",
      "1  c5403c4f-14d5-3171-9227-a9b8327f3149  67784b01-4f8d-32b5-af19-60c7247363e9   \n",
      "2  0a42bb03-b1a7-347d-82f3-4ba02080e55c  24dda8cd-a5bc-3908-93cc-af2c342f4d0b   \n",
      "3  0a42bb03-b1a7-347d-82f3-4ba02080e55c  24dda8cd-a5bc-3908-93cc-af2c342f4d0b   \n",
      "4  c5403c4f-14d5-3171-9227-a9b8327f3149  67784b01-4f8d-32b5-af19-60c7247363e9   \n",
      "\n",
      "                                  PAYER ENCOUNTERCLASS       CODE  \\\n",
      "0  26aab0cd-6aba-3e1b-ac5b-05c8867e762c       wellness  410620009   \n",
      "1  df166300-5a78-3502-a46a-832842197811       wellness  410620009   \n",
      "2  26aab0cd-6aba-3e1b-ac5b-05c8867e762c       wellness  410620009   \n",
      "3  26aab0cd-6aba-3e1b-ac5b-05c8867e762c       wellness  410620009   \n",
      "4  df166300-5a78-3502-a46a-832842197811       wellness  410620009   \n",
      "\n",
      "                    DESCRIPTION  BASE_ENCOUNTER_COST  TOTAL_CLAIM_COST  \\\n",
      "0  Well child visit (procedure)                136.8            347.38   \n",
      "1  Well child visit (procedure)                136.8           1679.60   \n",
      "2  Well child visit (procedure)                136.8            659.05   \n",
      "3  Well child visit (procedure)                136.8           1177.13   \n",
      "4  Well child visit (procedure)                136.8            488.50   \n",
      "\n",
      "   PAYER_COVERAGE  REASONCODE REASONDESCRIPTION  \n",
      "0             0.0         NaN               NaN  \n",
      "1          1579.6         NaN               NaN  \n",
      "2             0.0         NaN               NaN  \n",
      "3             0.0         NaN               NaN  \n",
      "4           488.5         NaN               NaN  \n",
      "\n",
      "Medications:\n",
      "                  START                  STOP  \\\n",
      "0  2023-05-21T21:52:07Z  2023-06-04T21:52:07Z   \n",
      "1  2023-05-21T21:52:07Z  2023-06-04T21:52:07Z   \n",
      "2  2018-05-10T13:28:57Z  2018-06-04T13:28:57Z   \n",
      "3  2019-02-12T04:02:43Z  2019-03-07T04:02:43Z   \n",
      "4  2019-05-27T03:42:27Z  2019-06-10T03:42:27Z   \n",
      "\n",
      "                                PATIENT                                 PAYER  \\\n",
      "0  a810b3cd-a8fa-0288-5f7c-c6347674d155  26aab0cd-6aba-3e1b-ac5b-05c8867e762c   \n",
      "1  a810b3cd-a8fa-0288-5f7c-c6347674d155  26aab0cd-6aba-3e1b-ac5b-05c8867e762c   \n",
      "2  6bb306f5-8ddf-6ce9-d504-5ec40385aee1  26aab0cd-6aba-3e1b-ac5b-05c8867e762c   \n",
      "3  aa59ccda-f100-6d3a-9735-a9d61e1fbae1  df166300-5a78-3502-a46a-832842197811   \n",
      "4  aa59ccda-f100-6d3a-9735-a9d61e1fbae1  df166300-5a78-3502-a46a-832842197811   \n",
      "\n",
      "                              ENCOUNTER    CODE  \\\n",
      "0  1a11db94-f0ed-2a15-3ca9-67d2f4a6a946  308192   \n",
      "1  1a11db94-f0ed-2a15-3ca9-67d2f4a6a946  313820   \n",
      "2  031ac79e-0565-266a-833d-4b12123a5d09  849574   \n",
      "3  255db984-aaa5-51ae-9340-61ee4a010006  313820   \n",
      "4  2a0a1bb4-0b93-4c52-ee3c-47c4f3701526  308192   \n",
      "\n",
      "                            DESCRIPTION  BASE_COST  PAYER_COVERAGE  DISPENSES  \\\n",
      "0        Amoxicillin 500 MG Oral Tablet      66.63             0.0          1   \n",
      "1  Acetaminophen 160 MG Chewable Tablet      45.86             0.0          1   \n",
      "2    Naproxen sodium 220 MG Oral Tablet      95.53             0.0          1   \n",
      "3  Acetaminophen 160 MG Chewable Tablet      45.86             0.0          1   \n",
      "4        Amoxicillin 500 MG Oral Tablet       1.10             0.0          1   \n",
      "\n",
      "   TOTALCOST  REASONCODE REASONDESCRIPTION  \n",
      "0      66.63         NaN               NaN  \n",
      "1      45.86         NaN               NaN  \n",
      "2      95.53         NaN               NaN  \n",
      "3      45.86         NaN               NaN  \n",
      "4       1.10         NaN               NaN  \n"
     ]
    }
   ],
   "source": [
    "print(\"Patients:\")\n",
    "print(patients.head())\n",
    "print(\"\\nEncounters:\")\n",
    "print(encounters.head())\n",
    "print(\"\\nMedications:\")\n",
    "print(medications.head())"
   ]
  },
  {
   "cell_type": "markdown",
   "id": "d148a04f",
   "metadata": {},
   "source": [
    "# 🥈 SILVER LAYER\n",
    "Cleaned and normalized data. \n",
    "\n",
    "This stage standardises formats, filters out invalid or missing data, and prepares it for analysis by applying business logic and transformations. It can also include enriched datasets formed by joining multiple sources."
   ]
  },
  {
   "cell_type": "markdown",
   "id": "1205d22a",
   "metadata": {},
   "source": [
    "### 🛠️ **Step 2 – Build Trustworthy Tables:**\n",
    "Now it’s time to prepare the data for analysis. We'll clean each dataset separately:\n",
    " \n",
    "- Rename inconsistent column names\n",
    "- Drop null or malformed values\n",
    "- Convert strings to proper data types (especially for dates)\n",
    "- The client would also like all datetimes to be in UTC timezone.\n",
    " \n",
    "Complete and run the cleaning functions. Then:\n",
    "1. Print the shape and dtypes of each cleaned table.\n",
    "2. Try spot any patient entries that might still be problematic.\n",
    "3. Check if any medications were dropped due to missing encounters."
   ]
  },
  {
   "cell_type": "code",
   "execution_count": 94,
   "id": "54cfb869",
   "metadata": {},
   "outputs": [],
   "source": [
    "def clean_patients(df):\n",
    "    df.columns = df.columns.str.lower()\n",
    "    df = df.dropna(subset=['id'])\n",
    "    df = df.rename(columns={'id': 'patient_id'})\n",
    "    return df[['patient_id', 'birthdate', 'gender', 'race', 'ethnicity', 'marital', 'state', 'city']]\n",
    "\n",
    "def clean_encounters(df):\n",
    "    df.columns = df.columns.str.lower()\n",
    "    df = df.dropna(subset=['id', 'patient'])\n",
    "    df = df.rename(columns={'id': 'encounter_id', 'patient': 'patient_id'})\n",
    "    df['encounter_start'] = pd.to_datetime(df['start'], errors='coerce', utc=True)\n",
    "    df['encounter_end'] = pd.to_datetime(df['stop'], errors='coerce', utc=True)\n",
    "    df['encounter_month'] = df['encounter_start'].dt.to_period('M')\n",
    "    return df[['encounter_id', 'patient_id', 'encounter_start', 'encounter_end', 'encounterclass', 'reasoncode', 'encounter_month']]\n",
    "\n",
    "def clean_medications(df):\n",
    "    df.columns = df.columns.str.lower()\n",
    "    df = df.dropna(subset=['encounter'])\n",
    "    df = df.rename(columns={'encounter': 'encounter_id'})\n",
    "    return df[['encounter_id', 'description', 'start', 'stop', 'reasoncode']]"
   ]
  },
  {
   "cell_type": "code",
   "execution_count": 95,
   "id": "a91f4efd",
   "metadata": {},
   "outputs": [
    {
     "name": "stderr",
     "output_type": "stream",
     "text": [
      "C:\\Users\\aleks\\AppData\\Local\\Temp\\ipykernel_34416\\2099219342.py:13: UserWarning: Converting to PeriodArray/Index representation will drop timezone information.\n",
      "  df['encounter_month'] = df['encounter_start'].dt.to_period('M')\n"
     ]
    }
   ],
   "source": [
    "patients_clean = clean_patients(patients)\n",
    "encounters_clean = clean_encounters(encounters)\n",
    "medications_clean = clean_medications(medications)"
   ]
  },
  {
   "cell_type": "markdown",
   "id": "420106aa",
   "metadata": {},
   "source": [
    "Save cleaned data to the `silver/` folder."
   ]
  },
  {
   "cell_type": "code",
   "execution_count": 96,
   "id": "44ac39fa",
   "metadata": {},
   "outputs": [],
   "source": [
    "patients_clean.to_csv(\"silver/patients_clean.csv\", index=False)\n",
    "encounters_clean.to_csv(\"silver/encounters_clean.csv\", index=False)\n",
    "medications_clean.to_csv(\"silver/medications_clean.csv\", index=False)"
   ]
  },
  {
   "cell_type": "markdown",
   "id": "f5c11611",
   "metadata": {},
   "source": [
    "### 🔗 **Step 3 – Connect the Dots:**\n",
    "You now have cleaned tables. Let’s enrich the data:\n",
    " \n",
    "- Join patients with their encounters\n",
    "- Join encounters with medication records\n",
    "- Create two derived metrics : the patient's age at the time of the encounter, and the total medications prescribed per encounter."
   ]
  },
  {
   "cell_type": "code",
   "execution_count": 97,
   "id": "62fa0c3f",
   "metadata": {},
   "outputs": [
    {
     "name": "stdout",
     "output_type": "stream",
     "text": [
      "                           encounter_id                            patient_id  \\\n",
      "0  eabe2d17-dc0c-54dd-d791-df1a6afffb74  a810b3cd-a8fa-0288-5f7c-c6347674d155   \n",
      "1  2cd689e1-828a-8ec1-1fa4-65c181b9e27c  aa59ccda-f100-6d3a-9735-a9d61e1fbae1   \n",
      "2  646ca376-0e3b-8641-e3ff-f2637a1800a6  a810b3cd-a8fa-0288-5f7c-c6347674d155   \n",
      "3  eab75d7d-a429-4655-2181-16338c07bc68  a810b3cd-a8fa-0288-5f7c-c6347674d155   \n",
      "4  8b455020-0438-0955-8c21-50ebbebf52c0  aa59ccda-f100-6d3a-9735-a9d61e1fbae1   \n",
      "\n",
      "            encounter_start             encounter_end encounterclass  \\\n",
      "0 2023-01-21 21:52:07+00:00 2023-01-21 22:07:07+00:00       wellness   \n",
      "1 2015-05-02 03:42:27+00:00 2015-05-02 03:57:27+00:00       wellness   \n",
      "2 2023-02-25 21:52:07+00:00 2023-02-25 22:07:07+00:00       wellness   \n",
      "3 2023-04-29 21:52:07+00:00 2023-04-29 22:07:07+00:00       wellness   \n",
      "4 2015-08-01 03:42:27+00:00 2015-08-01 03:57:27+00:00       wellness   \n",
      "\n",
      "   reasoncode_x encounter_month   birthdate gender   race    ethnicity  \\\n",
      "0           NaN         2023-01  2023-01-21      M  asian  nonhispanic   \n",
      "1           NaN         2015-05  2014-02-22      F  white  nonhispanic   \n",
      "2           NaN         2023-02  2023-01-21      M  asian  nonhispanic   \n",
      "3           NaN         2023-04  2023-01-21      M  asian  nonhispanic   \n",
      "4           NaN         2015-08  2014-02-22      F  white  nonhispanic   \n",
      "\n",
      "  marital          state       city description start stop  reasoncode_y  \n",
      "0     NaN  Massachusetts  Wellesley         NaN   NaN  NaN           NaN  \n",
      "1     NaN  Massachusetts   Chicopee         NaN   NaN  NaN           NaN  \n",
      "2     NaN  Massachusetts  Wellesley         NaN   NaN  NaN           NaN  \n",
      "3     NaN  Massachusetts  Wellesley         NaN   NaN  NaN           NaN  \n",
      "4     NaN  Massachusetts   Chicopee         NaN   NaN  NaN           NaN  \n"
     ]
    }
   ],
   "source": [
    "encounters_patients = encounters_clean.merge(patients_clean, on='patient_id', how='left')\n",
    "encounters_full = encounters_patients.merge(\n",
    "    medications_clean,\n",
    "    on='encounter_id',\n",
    "    how='left'\n",
    ")\n",
    "print(encounters_full.head())"
   ]
  },
  {
   "cell_type": "markdown",
   "id": "1758a329",
   "metadata": {},
   "source": [
    "Add age at time of encounter"
   ]
  },
  {
   "cell_type": "code",
   "execution_count": 98,
   "id": "f22785bb",
   "metadata": {},
   "outputs": [],
   "source": [
    "encounters_full['birthdate'] = pd.to_datetime(encounters_full['birthdate'], utc=True)\n",
    "encounters_full['age_at_encounter'] = ((encounters_full['encounter_start'] - encounters_full['birthdate']).dt.days / 365.25).astype(int)"
   ]
  },
  {
   "cell_type": "markdown",
   "id": "5221ab2d",
   "metadata": {},
   "source": [
    "Add total medications prescribed per encounter"
   ]
  },
  {
   "cell_type": "code",
   "execution_count": 99,
   "id": "c624f4b0",
   "metadata": {},
   "outputs": [],
   "source": [
    "# Calculate number of medications per encounter\n",
    "meds_per_encounter = medications_clean.groupby('encounter_id').size().reset_index(name='total_meds')\n",
    "\n",
    "# Add to enriched dataset\n",
    "encounters_full = encounters_full.merge(meds_per_encounter, on='encounter_id', how='left')\n",
    "encounters_full['total_meds'] = encounters_full['total_meds'].fillna(0).astype(int)\n"
   ]
  },
  {
   "cell_type": "markdown",
   "id": "63cc5bc9",
   "metadata": {},
   "source": [
    "Save enriched dataset in silver/"
   ]
  },
  {
   "cell_type": "code",
   "execution_count": 100,
   "id": "ac21fa6e",
   "metadata": {},
   "outputs": [],
   "source": [
    "encounters_full.to_csv(\"silver/encounters_full.csv\", index=False)"
   ]
  },
  {
   "cell_type": "markdown",
   "id": "2aaf5f38",
   "metadata": {},
   "source": [
    "After enriching the data:\n",
    "1. How many unique patients have medication records?\n",
    "2. What’s the average age of patients during encounters?\n",
    "3. What percentage of encounters involve at least one medication?"
   ]
  },
  {
   "cell_type": "code",
   "execution_count": 101,
   "id": "d836cffc",
   "metadata": {},
   "outputs": [
    {
     "name": "stdout",
     "output_type": "stream",
     "text": [
      "Unique patients with at least one medication record: 112\n",
      "Average age at time of encounter: 49.6\n",
      "Percentage of encounters with at least one medication: 59.45%\n"
     ]
    }
   ],
   "source": [
    "unique_meds_patients = encounters_full[~encounters_full['description'].isna()]['patient_id'].nunique()\n",
    "print(\"Unique patients with at least one medication record:\", unique_meds_patients)\n",
    "\n",
    "avg_age_at_encounter = encounters_full['age_at_encounter'].mean().round(1)\n",
    "print(\"Average age at time of encounter:\", avg_age_at_encounter)\n",
    "\n",
    "percent_with_meds = (encounters_full['total_meds'] > 0).mean() * 100\n",
    "print(f\"Percentage of encounters with at least one medication: {percent_with_meds:.2f}%\")"
   ]
  },
  {
   "cell_type": "markdown",
   "id": "8109c683",
   "metadata": {},
   "source": [
    "# 🥇 GOLD LAYER\n",
    "The final presentation layer. \n",
    "Contains aggregated, curated data suitable for reporting and decision-making. Here we compute KPIs and create visualizations to derive insights.\n",
    "### 📊 **Step 4 – Business Insights for Decision Makers:**\n",
    "It’s time to summarise the data into useful metrics (KPIs) and charts that executives and analysts can use.\n",
    "You’ll compute:\n",
    "\n",
    "- How many times patients typically interact with care providers\n",
    "- The top reasons people visit clinics\n",
    "- Which age groups are prescribed the most medication"
   ]
  },
  {
   "cell_type": "markdown",
   "id": "1b317594",
   "metadata": {},
   "source": [
    "### KPI 1: Average number of encounters per patient\n",
    "This metric helps understand how often patients are interacting with the healthcare system.\n",
    "\n",
    "A higher number may indicate a population with frequent care needs, while a lower number could\n",
    "suggest healthier individuals or gaps in access to care.\n",
    "\n",
    "Calculate the number of encounters grouped per patient and then compute the average across all patients.\n"
   ]
  },
  {
   "cell_type": "code",
   "execution_count": 102,
   "id": "0310ee84",
   "metadata": {},
   "outputs": [
    {
     "name": "stdout",
     "output_type": "stream",
     "text": [
      "Average Encounters per Patient: 90.97\n"
     ]
    }
   ],
   "source": [
    "encounters_df = pd.read_csv(\"silver/encounters_full.csv\")\n",
    "encounters_per_patient = encounters_df.groupby('patient_id').size()\n",
    "avg_encounters = encounters_per_patient.mean().round(2)\n",
    "print(\"Average Encounters per Patient:\", avg_encounters)"
   ]
  },
  {
   "cell_type": "markdown",
   "id": "2ab27686",
   "metadata": {},
   "source": [
    "### KPI 2: Top 5 most common encounter reasons\n",
    "\n",
    "This metric identifies the most frequently cited reasons for patient visits.\n",
    "It helps healthcare providers understand common health issues or patterns in patient demand.\n",
    "\n",
    "Knowing the most common reasons for encounters can support decisions about resource allocation and patient education.\n"
   ]
  },
  {
   "cell_type": "code",
   "execution_count": 103,
   "id": "e11f8856",
   "metadata": {},
   "outputs": [
    {
     "name": "stdout",
     "output_type": "stream",
     "text": [
      "\n",
      "Top 5 Encounter Reasons:\n",
      " reasoncode\n",
      "431857002.0    1391\n",
      "46177005.0     1027\n",
      "88805009.0      496\n",
      "72892002.0      486\n",
      "389095005.0     332\n",
      "Name: count, dtype: int64\n"
     ]
    }
   ],
   "source": [
    "top_reasons = encounters_clean['reasoncode'].value_counts().head(5)\n",
    "print(\"\\nTop 5 Encounter Reasons:\\n\", top_reasons)"
   ]
  },
  {
   "cell_type": "markdown",
   "id": "f7d5c972",
   "metadata": {},
   "source": [
    "### KPI 3: Medication frequency by age group\n",
    "This metric analyzes how often medications are prescribed across different age groups.\n",
    "It offers insight into age-specific treatment patterns, highlighting where chronic conditions or high medication use may be concentrated.\n",
    "\n",
    "Grouping by age allows healthcare professionals to tailor preventive care and monitor age-related trends in prescriptions.\n"
   ]
  },
  {
   "cell_type": "code",
   "execution_count": 104,
   "id": "f9ed22fb",
   "metadata": {},
   "outputs": [
    {
     "name": "stderr",
     "output_type": "stream",
     "text": [
      "C:\\Users\\aleks\\AppData\\Local\\Temp\\ipykernel_34416\\1832764839.py:4: FutureWarning: The default of observed=False is deprecated and will be changed to True in a future version of pandas. Pass observed=False to retain current behavior or observed=True to adopt the future default and silence this warning.\n",
      "  med_by_age = encounters_full.groupby('age_group')['description'].count()\n"
     ]
    }
   ],
   "source": [
    "# bins=[0, 18, 35, 50, 65, 100], labels=['0-18', '19-35', '36-50', '51-65', '66+']\n",
    "\n",
    "encounters_full['age_group'] = pd.cut(encounters_full['age_at_encounter'], bins=[0, 18, 35, 50, 65, 100], labels=['0-18', '19-35', '36-50', '51-65', '66+'])\n",
    "med_by_age = encounters_full.groupby('age_group')['description'].count()"
   ]
  },
  {
   "cell_type": "markdown",
   "id": "5e2ef42c",
   "metadata": {},
   "source": [
    "### Save KPIs in gold"
   ]
  },
  {
   "cell_type": "code",
   "execution_count": 105,
   "id": "edc75665",
   "metadata": {},
   "outputs": [],
   "source": [
    "pd.DataFrame({'avg_encounters': [avg_encounters]}).to_csv(\"gold/avg_encounters.csv\", index=False)\n",
    "top_reasons.to_frame(name=\"count\").to_csv(\"gold/top_reasons.csv\")\n",
    "med_by_age.to_frame(name=\"medication_count\").to_csv(\"gold/medications_by_age.csv\")"
   ]
  },
  {
   "cell_type": "markdown",
   "id": "7729aaa0",
   "metadata": {},
   "source": [
    "## 📊 Visualize a KPI (dealer's choice)"
   ]
  },
  {
   "cell_type": "code",
   "execution_count": 106,
   "id": "439bea70",
   "metadata": {},
   "outputs": [
    {
     "data": {
      "image/png": "[encoded data removed]",
      "text/plain": [
       "<Figure size 800x400 with 1 Axes>"
      ]
     },
     "metadata": {},
     "output_type": "display_data"
    }
   ],
   "source": [
    "med_by_age = pd.read_csv(\"gold/medications_by_age.csv\", index_col=0)\n",
    "med_by_age.plot(kind='bar', title='Medication Count by Age Group', figsize=(8,4))\n",
    "plt.xlabel('Age Group')\n",
    "plt.ylabel('Medication Count')\n",
    "plt.tight_layout()\n",
    "plt.savefig(\"gold/medication_by_age_plot.png\")\n",
    "plt.show()"
   ]
  },
  {
   "cell_type": "markdown",
   "id": "56e23b31",
   "metadata": {},
   "source": [
    "### 🧠 **Bonus Challenge:**\n",
    "1. Identify which age group has the most prescriptions.\n",
    "2. Can you interpret what the top 3 encounter reasons suggest about patient needs?\n",
    "3. Create one additional visualization that could be helpful to your client (e.g. encounter type by gender)."
   ]
  },
  {
   "cell_type": "code",
   "execution_count": 107,
   "id": "9ab6bfac",
   "metadata": {},
   "outputs": [
    {
     "name": "stdout",
     "output_type": "stream",
     "text": [
      "✅ Age group with the most prescriptions: medication_count    51-65\n",
      "dtype: object\n",
      "\n",
      "✅ Top 3 Encounter Reasons and Their Implications:\n",
      "- 431857002.0: 1391 visits\n",
      "- 46177005.0: 1027 visits\n",
      "- 88805009.0: 496 visits\n"
     ]
    },
    {
     "data": {
      "image/png": "[encoded data removed]",
      "text/plain": [
       "<Figure size 800x500 with 1 Axes>"
      ]
     },
     "metadata": {},
     "output_type": "display_data"
    }
   ],
   "source": [
    "# %%\n",
    "# 1. Age group with the most prescriptions\n",
    "most_prescriptions_age_group = med_by_age.idxmax()\n",
    "print(\"✅ Age group with the most prescriptions:\", most_prescriptions_age_group)\n",
    "\n",
    "# 2. Interpret top 3 encounter reasons\n",
    "print(\"\\n✅ Top 3 Encounter Reasons and Their Implications:\")\n",
    "for reason, count in top_reasons.head(3).items():\n",
    "    print(f\"- {reason}: {count} visits\")\n",
    "\n",
    "# 3. Extra visualization: Encounter type by gender\n",
    "encounter_type_by_gender = encounters_full.groupby(['gender', 'encounterclass']).size().unstack().fillna(0)\n",
    "encounter_type_by_gender.plot(kind='bar', stacked=True, figsize=(8, 5), title='Encounter Type by Gender')\n",
    "plt.xlabel('Gender')\n",
    "plt.ylabel('Number of Encounters')\n",
    "plt.tight_layout()\n",
    "plt.savefig(\"gold/encounter_type_by_gender_plot.png\")\n",
    "plt.show()"
   ]
  }
 ],
 "metadata": {
  "kernelspec": {
   "display_name": "Python 3",
   "language": "python",
   "name": "python3"
  },
  "language_info": {
   "codemirror_mode": {
    "name": "ipython",
    "version": 3
   },
   "file_extension": ".py",
   "mimetype": "text/x-python",
   "name": "python",
   "nbconvert_exporter": "python",
   "pygments_lexer": "ipython3",
   "version": "3.13.3"
  }
 },
 "nbformat": 4,
 "nbformat_minor": 5
}
