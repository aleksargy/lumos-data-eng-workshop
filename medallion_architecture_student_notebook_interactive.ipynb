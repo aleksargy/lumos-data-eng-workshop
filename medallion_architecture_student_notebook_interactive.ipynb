{
 "cells": [
  {
   "cell_type": "markdown",
   "id": "ee3df806",
   "metadata": {},
   "source": [
    "# Medallion Architecture: Healthcare Example with Pandas"
   ]
  },
  {
   "cell_type": "markdown",
   "id": "4e2947ae",
   "metadata": {},
   "source": [
    "## 👩‍💼 **Client Scenario:**\n",
    "You are a data engineer working with a healthcare provider. Your client has access to synthetic patient data generated from Synthea, which simulates real-world medical records. The client needs help building a structured pipeline to analyze patient and encounter data in a way that supports business intelligence and decision-making.\n",
    "\n",
    "Your task is to build a medallion architecture pipeline with the following objectives:\n",
    " \n",
    "1. Load and inspect raw patient, encounter, and medication data.\n",
    "2. Clean and prepare the data into consistent, analysis-ready tables.\n",
    "3. Create enriched views by joining datasets to gain a full picture of the patient journey.\n",
    "4. Calculate and save key performance indicators (KPIs).\n",
    "5. Generate visualizations to support reporting."
   ]
  },
  {
   "cell_type": "markdown",
   "id": "552249b5",
   "metadata": {},
   "source": [
    "# 🥉 BRONZE LAYER\n",
    "\n",
    "The raw data landing zone. It contains unprocessed datasets as extracted from the source. No cleaning or transformations are done here, just data dumps.\n",
    "\n",
    "We'll use real-world-style healthcare datasets generated from Synthea: patients, encounters, and medications.\n"
   ]
  },
  {
   "cell_type": "code",
   "execution_count": null,
   "id": "b376e409",
   "metadata": {},
   "outputs": [],
   "source": [
    "%pip install matplotlib \n",
    "\n",
    "import pandas as pd\n",
    "import numpy as np\n",
    "import matplotlib.pyplot as plt\n",
    "import os\n",
    "\n",
    "# Create folder structure\n",
    "os.makedirs(\"bronze\", exist_ok=True)\n",
    "os.makedirs(\"silver\", exist_ok=True)\n",
    "os.makedirs(\"gold\", exist_ok=True)"
   ]
  },
  {
   "cell_type": "markdown",
   "id": "8c2e0e64",
   "metadata": {},
   "source": [
    "### 🧩 **Step 1 – Your Task as the Data Engineer:**\n",
    "The client has given you access to raw healthcare datasets. The job here is simple:\n",
    " \n",
    "- Load the CSV files from the Synthea data dump.\n",
    "- Explore them to understand what kind of information you're working with.\n",
    "- Do not modify the data yet — just inspect and get familiar with it."
   ]
  },
  {
   "cell_type": "code",
   "execution_count": null,
   "id": "aaa763ed",
   "metadata": {},
   "outputs": [],
   "source": [
    "patients = pd.read_csv(\"bronze/patients.csv\")\n",
    "encounters = pd.read_csv(\"bronze/encounters.csv\")\n",
    "medications = pd.read_csv(\"bronze/medications.csv\")"
   ]
  },
  {
   "cell_type": "markdown",
   "id": "3261af47",
   "metadata": {},
   "source": [
    "After loading the data, ask yourself the following:\n",
    "1. How many columns and rows are in each dataset?\n",
    "2. Which columns look like IDs or date values?\n",
    "3. Can you spot any missing values or strange formatting?\n",
    "\n",
    "Explore and Inspect Raw Data (Optional (but recommended))"
   ]
  },
  {
   "cell_type": "code",
   "execution_count": null,
   "id": "89cdfdc2",
   "metadata": {},
   "outputs": [],
   "source": [
    "print(\"Patients:\")\n",
    "print(patients.head())\n",
    "print(\"\\nEncounters:\")\n",
    "print(encounters.head())\n",
    "print(\"\\nMedications:\")\n",
    "print(medications.head())"
   ]
  },
  {
   "cell_type": "markdown",
   "id": "d148a04f",
   "metadata": {},
   "source": [
    "# 🥈 SILVER LAYER\n",
    "Cleaned and normalized data. \n",
    "\n",
    "This stage standardises formats, filters out invalid or missing data, and prepares it for analysis by applying business logic and transformations. It also includes enriched datasets formed by joining multiple sources."
   ]
  },
  {
   "cell_type": "markdown",
   "id": "1205d22a",
   "metadata": {},
   "source": [
    "### 🛠️ **Step 2 – Build Trustworthy Tables:**\n",
    "Now it’s time to prepare the data for analysis. We'll clean each dataset separately:\n",
    " \n",
    "- Rename inconsistent column names\n",
    "- Drop null or malformed values\n",
    "- Convert strings to proper data types (especially for dates)\n",
    " \n",
    "Complete and run the cleaning functions. Then:\n",
    "1. Print the shape and dtypes of each cleaned table.\n",
    "2. Spot any patient entries that might still be problematic.\n",
    "3. Check how many medications were dropped due to missing encounters."
   ]
  },
  {
   "cell_type": "code",
   "execution_count": null,
   "id": "54cfb869",
   "metadata": {},
   "outputs": [],
   "source": [
    "def clean_patients(df):\n",
    "    df.columns = df.columns.str.lower()\n",
    "    df = df.dropna(subset=['id'])\n",
    "    df = df.rename(columns={'id': 'patient_id'})\n",
    "    return df[['patient_id', 'birthdate', 'gender', 'race', 'ethnicity', 'marital', 'state', 'city']]\n",
    "\n",
    "def clean_encounters(df):\n",
    "    df.columns = df.columns.str.lower()\n",
    "    df = df.dropna(subset=['id', 'patient'])\n",
    "    df = df.rename(columns={'id': 'encounter_id', 'patient': 'patient_id'})\n",
    "    df['encounter_start'] = pd.to_datetime(df['start'], errors='coerce')\n",
    "    df['encounter_end'] = pd.to_datetime(df['stop'], errors='coerce')\n",
    "    df['encounter_month'] = df['encounter_start'].dt.to_period('M')\n",
    "    return df[['encounter_id', 'patient_id', 'encounter_start', 'encounter_end', 'encounterclass', 'reasoncode', 'encounter_month']]\n",
    "\n",
    "def clean_medications(df):\n",
    "    df.columns = df.columns.str.lower()\n",
    "    df = df.dropna(subset=['encounter'])\n",
    "    df = df.rename(columns={'encounter': 'encounter_id'})\n",
    "    return df[['encounter_id', 'description', 'start', 'stop', 'reasoncode']]"
   ]
  },
  {
   "cell_type": "code",
   "execution_count": null,
   "id": "a91f4efd",
   "metadata": {},
   "outputs": [],
   "source": [
    "patients_clean = clean_patients(patients)\n",
    "encounters_clean = clean_encounters(encounters)\n",
    "medications_clean = clean_medications(medications)"
   ]
  },
  {
   "cell_type": "markdown",
   "id": "420106aa",
   "metadata": {},
   "source": [
    "Save cleaned data to the `silver/` folder."
   ]
  },
  {
   "cell_type": "code",
   "execution_count": null,
   "id": "44ac39fa",
   "metadata": {},
   "outputs": [],
   "source": [
    "patients_clean.to_csv(\"silver/patients_clean.csv\", index=False)\n",
    "encounters_clean.to_csv(\"silver/encounters_clean.csv\", index=False)\n",
    "medications_clean.to_csv(\"silver/medications_clean.csv\", index=False)"
   ]
  },
  {
   "cell_type": "markdown",
   "id": "f5c11611",
   "metadata": {},
   "source": [
    "### 🔗 **Step 3 – Connect the Dots:**\n",
    "You now have cleaned tables. Let’s enrich the data:\n",
    " \n",
    "- Join patients with their encounters\n",
    "- Join encounters with medication records\n",
    "- Create derived metrics such as the patient's age at the time of the encounter\n",
    " \n",
    "After enriching the data:\n",
    "1. How many unique patients have medication records?\n",
    "2. What’s the average age of patients during encounters?\n",
    "3. Which encounter class (inpatient, outpatient, etc.) is most frequent?\n",
    "\n",
    "Join the datasets and create enriched healthcare records."
   ]
  },
  {
   "cell_type": "markdown",
   "id": "05b72371",
   "metadata": {},
   "source": [
    "First join encounters with patients\n",
    "\n",
    "Then join with medications, protect column integrity"
   ]
  },
  {
   "cell_type": "code",
   "execution_count": null,
   "id": "62fa0c3f",
   "metadata": {},
   "outputs": [],
   "source": [
    "encounters_patients = encounters_clean.merge(patients_clean, on='patient_id', how='left')\n",
    "encounters_full = encounters_patients.merge(\n",
    "    medications_clean,\n",
    "    on='encounter_id',\n",
    "    how='left',\n",
    "    suffixes=('', '_med')\n",
    ")\n",
    "print(encounters_full.head())"
   ]
  },
  {
   "cell_type": "markdown",
   "id": "1758a329",
   "metadata": {},
   "source": [
    "Add age at time of encounter"
   ]
  },
  {
   "cell_type": "code",
   "execution_count": null,
   "id": "f22785bb",
   "metadata": {},
   "outputs": [],
   "source": [
    "encounters_full['birthdate'] = pd.to_datetime(encounters_full['birthdate'], utc=True)\n",
    "encounters_full['age_at_encounter'] = ((encounters_full['encounter_start'] - encounters_full['birthdate']).dt.days / 365.25).astype(int)"
   ]
  },
  {
   "cell_type": "markdown",
   "id": "63cc5bc9",
   "metadata": {},
   "source": [
    "Save enriched dataset in silver/"
   ]
  },
  {
   "cell_type": "code",
   "execution_count": null,
   "id": "ac21fa6e",
   "metadata": {},
   "outputs": [],
   "source": [
    "encounters_full.to_csv(\"silver/encounters_full.csv\", index=False)"
   ]
  },
  {
   "cell_type": "markdown",
   "id": "8109c683",
   "metadata": {},
   "source": [
    "# 🥇 GOLD LAYER\n",
    "The final presentation layer. \n",
    "Contains aggregated, curated data suitable for reporting and decision-making. Here we compute KPIs and create visualizations to derive insights.\n",
    "## 📊 **Step 4 – Business Insights for Decision Makers:**\n",
    "It’s time to summarize the data into useful metrics (KPIs) and charts that executives and analysts can use.\n",
    "You’ll compute:\n",
    "\n",
    "- How many times patients typically interact with care providers\n",
    "- The top reasons people visit clinics\n",
    "- Which age groups are prescribed the most medication\n",
    " \n",
    "1. Identify which age group has the most prescriptions.\n",
    "2. Can you interpret what the top 3 encounter reasons suggest about patient needs?\n",
    "3. Create one additional visualization that could be helpful to your client (e.g. encounter type by gender).\n",
    "\n",
    "Compute healthcare insights from enriched data."
   ]
  },
  {
   "cell_type": "markdown",
   "id": "1b317594",
   "metadata": {},
   "source": [
    "### KPI 1: Average number of encounters per patient\n",
    "This metric helps understand how often patients are interacting with the healthcare system.\n",
    "\n",
    "A higher number may indicate a population with frequent care needs, while a lower number could\n",
    "suggest healthier individuals or gaps in access to care.\n",
    "\n",
    "Calculate the number of encounters grouped per patient and then compute the average across all patients.\n"
   ]
  },
  {
   "cell_type": "code",
   "execution_count": null,
   "id": "0310ee84",
   "metadata": {},
   "outputs": [],
   "source": [
    "encounters_per_patient = encounters_clean.groupby('patient_id').size()\n",
    "avg_encounters = encounters_per_patient.mean().round(2)\n",
    "print(\"Average Encounters per Patient:\", avg_encounters)"
   ]
  },
  {
   "cell_type": "markdown",
   "id": "2ab27686",
   "metadata": {},
   "source": [
    "### KPI 2: Most common encounter reasons\n",
    "\n",
    "This metric identifies the most frequently cited reasons for patient visits.\n",
    "It helps healthcare providers understand common health issues or patterns in patient demand.\n",
    "\n",
    "Knowing the most common reasons for encounters can support decisions about resource allocation and patient education.\n"
   ]
  },
  {
   "cell_type": "code",
   "execution_count": null,
   "id": "e11f8856",
   "metadata": {},
   "outputs": [],
   "source": [
    "top_reasons = encounters_clean['reasoncode'].value_counts().head(5)\n",
    "print(\"\\nTop 5 Encounter Reasons:\\n\", top_reasons)"
   ]
  },
  {
   "cell_type": "markdown",
   "id": "f7d5c972",
   "metadata": {},
   "source": [
    "### KPI 3: Medication frequency by age group\n",
    "This metric analyzes how often medications are prescribed across different age groups.\n",
    "It offers insight into age-specific treatment patterns, highlighting where chronic conditions or high medication use may be concentrated.\n",
    "\n",
    "Grouping by age allows healthcare professionals to tailor preventive care and monitor age-related trends in prescriptions.\n"
   ]
  },
  {
   "cell_type": "code",
   "execution_count": null,
   "id": "f9ed22fb",
   "metadata": {},
   "outputs": [],
   "source": [
    "encounters_full['age_group'] = pd.cut(encounters_full['age_at_encounter'], bins=[0, 18, 35, 50, 65, 100], labels=['0-18', '19-35', '36-50', '51-65', '66+'])\n",
    "med_by_age = encounters_full.groupby('age_group')['description'].count()"
   ]
  },
  {
   "cell_type": "markdown",
   "id": "5e2ef42c",
   "metadata": {},
   "source": [
    "### Save KPIs to CSV in gold/"
   ]
  },
  {
   "cell_type": "code",
   "execution_count": null,
   "id": "edc75665",
   "metadata": {},
   "outputs": [],
   "source": [
    "pd.DataFrame({'avg_encounters': [avg_encounters]}).to_csv(\"gold/avg_encounters.csv\", index=False)\n",
    "top_reasons.to_frame(name=\"count\").to_csv(\"gold/top_reasons.csv\")\n",
    "med_by_age.to_frame(name=\"medication_count\").to_csv(\"gold/medications_by_age.csv\")"
   ]
  },
  {
   "cell_type": "markdown",
   "id": "7729aaa0",
   "metadata": {},
   "source": [
    "## 📊 Visualize a KPI (dealer's choice)"
   ]
  },
  {
   "cell_type": "code",
   "execution_count": null,
   "id": "439bea70",
   "metadata": {},
   "outputs": [],
   "source": [
    "med_by_age = pd.read_csv(\"gold/medications_by_age.csv\", index_col=0)\n",
    "med_by_age.plot(kind='bar', title='Medication Count by Age Group', figsize=(8,4))\n",
    "plt.xlabel('Age Group')\n",
    "plt.ylabel('Medication Count')\n",
    "plt.tight_layout()\n",
    "plt.savefig(\"gold/medication_by_age_plot.png\")\n",
    "plt.show()"
   ]
  }
 ],
 "metadata": {
  "kernelspec": {
   "display_name": "Python 3",
   "language": "python",
   "name": "python3"
  },
  "language_info": {
   "codemirror_mode": {
    "name": "ipython",
    "version": 3
   },
   "file_extension": ".py",
   "mimetype": "text/x-python",
   "name": "python",
   "nbconvert_exporter": "python",
   "pygments_lexer": "ipython3",
   "version": "3.13.3"
  }
 },
 "nbformat": 4,
 "nbformat_minor": 5
}
